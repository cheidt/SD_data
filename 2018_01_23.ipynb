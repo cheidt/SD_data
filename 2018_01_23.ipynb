{
 "cells": [
  {
   "cell_type": "code",
   "execution_count": 1,
   "metadata": {
    "collapsed": true
   },
   "outputs": [],
   "source": [
    "import warnings\n",
    "warnings.filterwarnings('ignore') # Aren't I the checky git"
   ]
  },
  {
   "cell_type": "code",
   "execution_count": 2,
   "metadata": {
    "collapsed": true
   },
   "outputs": [],
   "source": [
    "import matplotlib.pyplot as plt\n",
    "import pandas            as pds\n",
    "import seaborn           as sns\n",
    "import numpy             as np\n",
    "import nltk\n",
    "import statistics\n",
    "import scipy\n",
    "\n",
    "from itertools               import combinations\n",
    "from datetime                import datetime\n",
    "from sklearn.metrics         import classification_report as cr \n",
    "from sklearn.metrics         import r2_score as r2\n",
    "from sklearn.metrics         import accuracy_score as ac \n",
    "from sklearn.metrics         import mean_squared_error as mse\n",
    "from sklearn.metrics         import confusion_matrix as cm\n",
    "from sklearn.model_selection import train_test_split as tts\n",
    "from nltk.corpus             import wordnet          as wn\n",
    "from nltk.corpus.reader.wordnet import WordNetError\n",
    "from matplotlib.colors       import LogNorm\n",
    "\n",
    "from sklearn.model_selection import GridSearchCV\n",
    "from sklearn.naive_bayes     import GaussianNB                 as GNB\n",
    "from sklearn.naive_bayes     import MultinomialNB              as MNB\n",
    "from sklearn.ensemble        import GradientBoostingClassifier as GBC \n",
    "from sklearn.ensemble        import RandomForestClassifier     as RFC\n",
    "from sklearn.svm             import SVC                        as SVC\n",
    "from sklearn.neighbors       import KNeighborsClassifier       as KNC\n",
    "from sklearn.linear_model    import LogisticRegression         as LRE\n",
    "from sklearn.linear_model    import LogisticRegressionCV       as LRC\n",
    "from sklearn.mixture         import GaussianMixture            as GM\n",
    "from sklearn.naive_bayes     import BernoulliNB                as BNB\n",
    "from sklearn.cluster         import KMeans                     as KMS"
   ]
  },
  {
   "cell_type": "code",
   "execution_count": 3,
   "metadata": {},
   "outputs": [
    {
     "name": "stdout",
     "output_type": "stream",
     "text": [
      "Read in 342940 events, working with 311697 events.\n",
      "31243 cut events\n"
     ]
    }
   ],
   "source": [
    "df = pds.read_csv('insight-full.csv', header=0)\n",
    "incoming_size = len(df)\n",
    "df = df[(df['transport_code'].isnull()==False)  & (df['disp_problem_lvl'].isnull()==False) & \n",
    "        (df['latitude'].isnull()==False)        & (df['longitude'].isnull()==False) &\n",
    "        (df['trans_score_mod'].isnull()==False) & (df['treat_score_mod'].isnull()==False) &\n",
    "        (df['disp_problem_lvl']!='UNKNOWN')     & (df['age_yrs'].isnull()==False) &\n",
    "        (df['sex'].isnull()==False)             & (df['sex']!='U') & (df['age_yrs']>0) &\n",
    "        (df['disp_determinant/medical_code'].isnull()==False) &\n",
    "        (df['disp_determinant/medical_code']!='XXXXX')]\n",
    "df = df[(df['incidentcount'].isnull()==False) & (df['onscene_time'].isnull()==False)]\n",
    "df = df[(df['age_yrs'] < 105) & (df['drug_inc'].isnull()==False) & (df['drug_count'].isnull()==False) &\n",
    "        (df['etoh_count'].isnull()==False) & (df['etoh_inc'].isnull()==False)]\n",
    "df = df[(df['pert_os'].isnull()==False) & (df['pert_count'].isnull()==False) & (df['aggressive'].isnull()==False)]\n",
    "df.index = range(len(df))\n",
    "outgoing_size = len(df)\n",
    "print('Read in {0} events, working with {1} events.'.format(incoming_size, outgoing_size))\n",
    "print('{} cut events'.format(incoming_size-outgoing_size))"
   ]
  },
  {
   "cell_type": "code",
   "execution_count": null,
   "metadata": {},
   "outputs": [],
   "source": []
  },
  {
   "cell_type": "markdown",
   "metadata": {},
   "source": [
    "# Choosing problems to work on\n",
    "\n",
    "Only going to work on the biggest dispatch code to begin with.  I think this makes more sense than trying to do everything together."
   ]
  },
  {
   "cell_type": "code",
   "execution_count": 4,
   "metadata": {
    "collapsed": true
   },
   "outputs": [],
   "source": [
    "code_list = list(df['disp_determinant/medical_code'].unique())\n",
    "code_dict = {}\n",
    "for i in range(len(code_list)):\n",
    "    code_dict[code_list[i]] = i"
   ]
  },
  {
   "cell_type": "code",
   "execution_count": 5,
   "metadata": {},
   "outputs": [
    {
     "name": "stdout",
     "output_type": "stream",
     "text": [
      "06D02\n",
      "26D01\n",
      "17B01\n"
     ]
    }
   ],
   "source": [
    "for code in code_list:\n",
    "    if len(df['disp_determinant/medical_code'][df['disp_determinant/medical_code']==code]) > 12000:\n",
    "        print(code)"
   ]
  },
  {
   "cell_type": "markdown",
   "metadata": {},
   "source": [
    "#### Let's pull out every time this situation comes up, no matter the response level"
   ]
  },
  {
   "cell_type": "code",
   "execution_count": 6,
   "metadata": {
    "collapsed": true
   },
   "outputs": [],
   "source": [
    "df['event']       = [x[:2]+x[3:] for x in df['disp_determinant/medical_code']]\n",
    "df['major_event'] = [x[:2] for x in df['event']]\n",
    "df['minor_event']  = [x[2:] for x in df['event']]\n",
    "df['major_event']  = df['major_event'].apply(lambda x: x+'_major')\n",
    "df['minor_event']  = df['minor_event'].apply(lambda x: 'minor_'+x)\n",
    "# print(df['minor_event'])"
   ]
  },
  {
   "cell_type": "markdown",
   "metadata": {},
   "source": [
    "#### Then serialize the response level part of the code"
   ]
  },
  {
   "cell_type": "code",
   "execution_count": 7,
   "metadata": {
    "collapsed": true
   },
   "outputs": [],
   "source": [
    "df['disp_level_code'] = 0\n",
    "df['disp_level_code'] = [x[2] for x in df['disp_determinant/medical_code']]"
   ]
  },
  {
   "cell_type": "code",
   "execution_count": 8,
   "metadata": {
    "collapsed": true
   },
   "outputs": [],
   "source": [
    "temp = pds.get_dummies(df['minor_event'])\n",
    "df   = pds.concat([df,temp], axis=1)"
   ]
  },
  {
   "cell_type": "code",
   "execution_count": 9,
   "metadata": {
    "collapsed": true
   },
   "outputs": [],
   "source": [
    "df['A'] = 0; df['A'][df['disp_level_code']=='A'] = 1\n",
    "df['B'] = 0; df['B'][df['disp_level_code']=='B'] = 1\n",
    "df['C'] = 0; df['C'][df['disp_level_code']=='C'] = 1\n",
    "df['D'] = 0; df['D'][df['disp_level_code']=='D'] = 1\n",
    "df['E'] = 0; df['E'][df['disp_level_code']=='E'] = 1\n",
    "df['O'] = 0; df['O'][df['disp_level_code']=='O'] = 1"
   ]
  },
  {
   "cell_type": "markdown",
   "metadata": {},
   "source": [
    "#### Creating a df for each of these so they don't get confused"
   ]
  },
  {
   "cell_type": "code",
   "execution_count": 10,
   "metadata": {
    "collapsed": true
   },
   "outputs": [],
   "source": [
    "# df_3103 = df[df['event']=='3103']\n",
    "# df_0602 = df[df['event']=='0602']\n",
    "df = df[df['major_event']=='26_major']\n",
    "df.index = range(len(df))\n",
    "# df_1701 = df[df['event']=='1701']\n",
    "# df_2904 = df[df['event']=='2904']"
   ]
  },
  {
   "cell_type": "code",
   "execution_count": 11,
   "metadata": {},
   "outputs": [
    {
     "data": {
      "text/plain": [
       "52322"
      ]
     },
     "execution_count": 11,
     "metadata": {},
     "output_type": "execute_result"
    }
   ],
   "source": [
    "len(df)"
   ]
  },
  {
   "cell_type": "markdown",
   "metadata": {},
   "source": [
    "# 1 Developing Classifications\n",
    "\n",
    "How do we rate things as emergency or not?\n"
   ]
  },
  {
   "cell_type": "code",
   "execution_count": 12,
   "metadata": {},
   "outputs": [],
   "source": [
    "df['class_a'] = 0\n",
    "df['class_a'][(df['transport_code']<35) & (df['transport_code']!=0)] = 1\n",
    "df['class_d'] = 0\n",
    "df['class_d'][df['disp_problem_lvl']!='L4'] = 1"
   ]
  },
  {
   "cell_type": "code",
   "execution_count": 13,
   "metadata": {},
   "outputs": [
    {
     "data": {
      "image/png": "[encoded data removed]",
      "text/plain": [
       "<matplotlib.figure.Figure at 0x7f85b04e9438>"
      ]
     },
     "metadata": {},
     "output_type": "display_data"
    }
   ],
   "source": [
    "plt.figure(figsize=[12,5])\n",
    "plt.subplot(1,2,1), plt.title('Actual')\n",
    "plt.hist(df['class_a'],bins=2)\n",
    "plt.subplot(1,2,2), plt.title('Dispatched')\n",
    "plt.hist(df['class_d'],bins=2)\n",
    "plt.show()"
   ]
  },
  {
   "cell_type": "markdown",
   "metadata": {},
   "source": [
    "# 2 Prepare Time Feature\n",
    "\n",
    "Turn time of day into an float between 0 - 24 by the minute and bin into groups of 15 minutes."
   ]
  },
  {
   "cell_type": "code",
   "execution_count": 14,
   "metadata": {
    "collapsed": true
   },
   "outputs": [],
   "source": [
    "temp0 = df['response_date'].apply(lambda x: x.replace('.000', ''))\n",
    "temp0 = temp0.apply(lambda x: datetime.strptime(x, '%Y-%m-%d %H:%M:%S'))\n",
    "temp1 = temp0.apply(lambda x: x.time())\n",
    "temp2 = temp0.apply(lambda x: x.weekday())\n",
    "# temp3 = temp0.apply(lambda x: x.month() )\n",
    "\n",
    "temp2 = ['Monday' if x==0 else 'Tuesday'  if x==1 else 'Wednesday' if x==2 else 'Thursday' if x==3 else\n",
    "         'Friday' if x==4 else 'Saturday' if x==5 else 'Sunday' for x in temp2]\n",
    "\n",
    "df['response_time'] = temp0.apply(lambda x: x.hour+x.minute/60.)\n",
    "temp2 = pds.get_dummies(temp2)\n",
    "df    = pds.concat([df,temp2],axis=1)\n",
    "# df['Monday'].head(5)"
   ]
  },
  {
   "cell_type": "markdown",
   "metadata": {},
   "source": [
    "Time is in float types, need to bin the data."
   ]
  },
  {
   "cell_type": "code",
   "execution_count": 15,
   "metadata": {
    "collapsed": true
   },
   "outputs": [],
   "source": [
    "# df['response_time'] = df['response_time'].apply(lambda x: int(x*2)/2.)"
   ]
  },
  {
   "cell_type": "markdown",
   "metadata": {},
   "source": [
    "#### Time is formatted.  Decided not to bin"
   ]
  },
  {
   "cell_type": "markdown",
   "metadata": {},
   "source": [
    "# 3 Preparing sex\n",
    "\n",
    "Need to change sex from M/F to 0/1"
   ]
  },
  {
   "cell_type": "code",
   "execution_count": 16,
   "metadata": {
    "collapsed": true
   },
   "outputs": [],
   "source": [
    "df['gender']                 = 0\n",
    "df['gender'][df['sex']=='F'] = 1\n",
    "df['gender'][df['sex']=='M'] = 0\n",
    "# df['gender'][df['sex']=='M'].head(5)"
   ]
  },
  {
   "cell_type": "markdown",
   "metadata": {},
   "source": [
    "#### Nothing could be simpler"
   ]
  },
  {
   "cell_type": "markdown",
   "metadata": {},
   "source": [
    "# 4 Frequency of calls"
   ]
  },
  {
   "cell_type": "code",
   "execution_count": 17,
   "metadata": {},
   "outputs": [
    {
     "data": {
      "image/png": "[encoded data removed]",
      "text/plain": [
       "<matplotlib.figure.Figure at 0x7f85b04e1a58>"
      ]
     },
     "metadata": {},
     "output_type": "display_data"
    }
   ],
   "source": [
    "plt.figure()\n",
    "plt.subplot()\n",
    "# plt.yscale('log')0\n",
    "plt.hist(df[(df['incidentcount']>2) & (df['incidentcount']<20)].\\\n",
    "         groupby('mpi_id')['incidentcount'].mean().values,bins=17)\n",
    "# print(list(df.groupby('mpi_id')['incidentcount'].mean().values))\n",
    "plt.show()"
   ]
  },
  {
   "cell_type": "code",
   "execution_count": 18,
   "metadata": {},
   "outputs": [
    {
     "data": {
      "image/png": "[encoded data removed]",
      "text/plain": [
       "<matplotlib.figure.Figure at 0x7f85b04e4828>"
      ]
     },
     "metadata": {},
     "output_type": "display_data"
    }
   ],
   "source": [
    "plt.hist(df['incidentcount'],bins=300)\n",
    "plt.show()"
   ]
  },
  {
   "cell_type": "code",
   "execution_count": 19,
   "metadata": {
    "collapsed": true
   },
   "outputs": [],
   "source": [
    "temp = ['low_use' if x < 2 else 'med_use' if x < 20 else 'high_use' for x in df['incidentcount']]\n",
    "temp = pds.get_dummies(temp)\n",
    "df = pds.concat([df, temp], axis=1)"
   ]
  },
  {
   "cell_type": "markdown",
   "metadata": {},
   "source": [
    "#### Let's go ahead and use this as well."
   ]
  },
  {
   "cell_type": "markdown",
   "metadata": {},
   "source": [
    "# 5 Response time\n",
    "Maybe how long the ambulance takes to reach the person could help inform the model as well"
   ]
  },
  {
   "cell_type": "code",
   "execution_count": 20,
   "metadata": {
    "collapsed": true
   },
   "outputs": [],
   "source": [
    "ti = df['response_date'].apply(lambda x: x.replace('.000', ''))\n",
    "ti = ti.apply(lambda x: datetime.strptime(x, '%Y-%m-%d %H:%M:%S'))\n",
    "ti = ti.apply(lambda x: x.hour+x.minute/60.+x.second/3600)\n",
    "\n",
    "tf = df['onscene_time'].apply(lambda x: x.replace('.000', ''))\n",
    "tf = tf.apply(lambda x: datetime.strptime(x, '%Y-%m-%d %H:%M:%S'))\n",
    "tf = tf.apply(lambda x: x.hour+x.minute/60.+x.second/3600)"
   ]
  },
  {
   "cell_type": "code",
   "execution_count": 21,
   "metadata": {
    "collapsed": true
   },
   "outputs": [],
   "source": [
    "tt = tf-ti\n",
    "tt[tt<0] = tt+24\n",
    "df['delta_arrival'] = tt\n",
    "# tt = tt.apply(lambda x: x.hour + x.minute/60 + x.seconds/3600)\n",
    "# print(tt)"
   ]
  },
  {
   "cell_type": "code",
   "execution_count": 22,
   "metadata": {},
   "outputs": [
    {
     "data": {
      "image/png": "[encoded data removed]",
      "text/plain": [
       "<matplotlib.figure.Figure at 0x7f85b053b4a8>"
      ]
     },
     "metadata": {},
     "output_type": "display_data"
    }
   ],
   "source": [
    "plt.hist(df['delta_arrival'][(df['delta_arrival']>0) & (df['delta_arrival']<.5)],bins=100)\n",
    "plt.show()"
   ]
  },
  {
   "cell_type": "markdown",
   "metadata": {},
   "source": [
    "#### Now we have how long it takes from the first call until arrival"
   ]
  },
  {
   "cell_type": "markdown",
   "metadata": {},
   "source": [
    "# 6 Age"
   ]
  },
  {
   "cell_type": "code",
   "execution_count": 23,
   "metadata": {},
   "outputs": [
    {
     "data": {
      "image/png": "[encoded data removed]",
      "text/plain": [
       "<matplotlib.figure.Figure at 0x7f85b04ce2b0>"
      ]
     },
     "metadata": {},
     "output_type": "display_data"
    }
   ],
   "source": [
    "plt.hist(df['age_yrs'],bins=100)\n",
    "plt.show()"
   ]
  },
  {
   "cell_type": "code",
   "execution_count": 24,
   "metadata": {
    "scrolled": false
   },
   "outputs": [
    {
     "data": {
      "image/png": "[encoded data removed]",
      "text/plain": [
       "<matplotlib.figure.Figure at 0x7f85b0517128>"
      ]
     },
     "metadata": {},
     "output_type": "display_data"
    }
   ],
   "source": [
    "temp = df['age_yrs'][df['gender']==1]\n",
    "plt.hist(temp,bins=100)\n",
    "plt.show()"
   ]
  },
  {
   "cell_type": "code",
   "execution_count": 25,
   "metadata": {
    "collapsed": true
   },
   "outputs": [],
   "source": [
    "df['age_cat'] = ['child' if x < 10 else 'young' if x < 45 else 'middle' if x < 75 else 'old' for x in df['age_yrs']]"
   ]
  },
  {
   "cell_type": "code",
   "execution_count": 26,
   "metadata": {
    "collapsed": true
   },
   "outputs": [],
   "source": [
    "temp = pds.get_dummies(df['age_cat'])\n",
    "# print(temp.head(5))\n",
    "df = pds.concat([df, temp], axis=1)"
   ]
  },
  {
   "cell_type": "code",
   "execution_count": 27,
   "metadata": {
    "collapsed": true
   },
   "outputs": [],
   "source": [
    "# df['young'].head(5)"
   ]
  },
  {
   "cell_type": "code",
   "execution_count": 28,
   "metadata": {},
   "outputs": [
    {
     "data": {
      "image/png": "[encoded data removed]",
      "text/plain": [
       "<matplotlib.figure.Figure at 0x7f85b05604a8>"
      ]
     },
     "metadata": {},
     "output_type": "display_data"
    }
   ],
   "source": [
    "plt.hist(df['age_yrs'][df['class_a']==1],bins=100)\n",
    "plt.show()"
   ]
  },
  {
   "cell_type": "code",
   "execution_count": 29,
   "metadata": {},
   "outputs": [
    {
     "data": {
      "image/png": "[encoded data removed]",
      "text/plain": [
       "<matplotlib.figure.Figure at 0x7f85b0570ac8>"
      ]
     },
     "metadata": {},
     "output_type": "display_data"
    }
   ],
   "source": [
    "plt.hist(df['age_yrs'][df['class_a']==0],bins=100)\n",
    "plt.show()"
   ]
  },
  {
   "cell_type": "markdown",
   "metadata": {},
   "source": [
    "# 7 Text"
   ]
  },
  {
   "cell_type": "code",
   "execution_count": null,
   "metadata": {
    "collapsed": true
   },
   "outputs": [],
   "source": [
    "from sklearn.feature_extraction.text import TfidfVectorizer as TFV\n",
    "words_L1 = []; words_L3 = []; words_L4 = []\n",
    "temp = df['disp_dispatch_comment'][df['class']=='L1'].values\n",
    "for word in temp:\n",
    "    tokens = nltk.word_tokenize(word)\n",
    "    tagged = nltk.pos_tag(tokens)\n",
    "    words_L1.append(tagged)\n",
    "#     tfid_L1 = TFV().fit_transform(tokens)\n",
    "    \n",
    "temp = df['disp_dispatch_comment'][df['class']=='L3'].values\n",
    "for word in temp:\n",
    "    tokens = nltk.word_tokenize(word)\n",
    "    tagged = nltk.pos_tag(tokens)\n",
    "    words_L3.append(tagged)\n",
    "#     tfid_L3 = TFV().fit_transform(tokens)\n",
    "\n",
    "temp = df['disp_dispatch_comment'][df['class']=='L4'].values\n",
    "for word in temp:\n",
    "    tokens = nltk.word_tokenize(word)\n",
    "    tagged = nltk.pos_tag(tokens)\n",
    "    words_L4.append(tagged)\n",
    "#     tfid_L4 = TFV().fit_transform(tokens)"
   ]
  },
  {
   "cell_type": "code",
   "execution_count": null,
   "metadata": {
    "collapsed": true
   },
   "outputs": [],
   "source": [
    "unique_L1   = {}\n",
    "top_word_L1 = {}\n",
    "for sentence in words_L1:\n",
    "    for word in sentence:\n",
    "        if 'VB' == word[1] or 'JJ' == word[1] or 'NN' == word[1] or 'RB' == word[1]:\n",
    "            if word[0] in unique_L1:\n",
    "                unique_L1[word[0]] += 1\n",
    "            else:\n",
    "                unique_L1[word[0]] = 1\n",
    "# print(unique_L1)\n",
    "for word in unique_L1:\n",
    "    if unique_L1[word] > 50:\n",
    "        top_word_L1[word] = unique_L1[word]\n",
    "print(top_word_L1)"
   ]
  },
  {
   "cell_type": "code",
   "execution_count": null,
   "metadata": {
    "collapsed": true
   },
   "outputs": [],
   "source": [
    "unique_L3   = {}\n",
    "top_word_L3 = {}\n",
    "for sentence in words_L3:\n",
    "    for word in sentence:\n",
    "        if 'VB' == word[1] or 'JJ' == word[1] or 'NN' == word[1] or 'RB' == word[1]:\n",
    "            if word[0] in unique_L3:\n",
    "                unique_L3[word[0]] += 1\n",
    "            else:\n",
    "                unique_L3[word[0]] = 1\n",
    "# print(unique_L3)\n",
    "for word in unique_L3:\n",
    "    if unique_L3[word] > 200:\n",
    "        top_word_L3[word] = unique_L3[word]\n",
    "print(top_word_L3)"
   ]
  },
  {
   "cell_type": "code",
   "execution_count": null,
   "metadata": {
    "collapsed": true
   },
   "outputs": [],
   "source": [
    "unique_L1   = {}\n",
    "top_word_L1 = {}\n",
    "for sentence in words_L1:\n",
    "    for word in sentence:\n",
    "        if 'VB' == word[1] or 'JJ' == word[1] or 'NN' == word[1] or 'RB' == word[1]:\n",
    "            if word[0] in unique_L1:\n",
    "                unique_L1[word[0]] += 1\n",
    "            else:\n",
    "                unique_L1[word[0]] = 1\n",
    "# print(unique_L1)\n",
    "for word in unique_L1:\n",
    "    if unique_L1[word] > 200:\n",
    "        top_word_L1[word] = unique_L1[word]\n",
    "print(top_word_L1)"
   ]
  },
  {
   "cell_type": "code",
   "execution_count": null,
   "metadata": {},
   "outputs": [],
   "source": [
    "df['disp_dispatch_comment'][1]"
   ]
  },
  {
   "cell_type": "code",
   "execution_count": null,
   "metadata": {
    "collapsed": true
   },
   "outputs": [],
   "source": []
  },
  {
   "cell_type": "code",
   "execution_count": null,
   "metadata": {
    "collapsed": true
   },
   "outputs": [],
   "source": []
  },
  {
   "cell_type": "code",
   "execution_count": null,
   "metadata": {
    "collapsed": true
   },
   "outputs": [],
   "source": [
    "# nltk.download()\n",
    "# nltk.help.upenn_tagset()"
   ]
  },
  {
   "cell_type": "code",
   "execution_count": null,
   "metadata": {
    "collapsed": true
   },
   "outputs": [],
   "source": []
  },
  {
   "cell_type": "code",
   "execution_count": null,
   "metadata": {
    "collapsed": true
   },
   "outputs": [],
   "source": []
  },
  {
   "cell_type": "markdown",
   "metadata": {},
   "source": [
    "# 8 Medical Codes"
   ]
  },
  {
   "cell_type": "code",
   "execution_count": null,
   "metadata": {
    "collapsed": true
   },
   "outputs": [],
   "source": [
    "# pds.get_dummies(df[\"disp_determinant/medical_code\"])"
   ]
  },
  {
   "cell_type": "code",
   "execution_count": null,
   "metadata": {
    "collapsed": true
   },
   "outputs": [],
   "source": []
  },
  {
   "cell_type": "code",
   "execution_count": null,
   "metadata": {
    "collapsed": true
   },
   "outputs": [],
   "source": []
  },
  {
   "cell_type": "code",
   "execution_count": null,
   "metadata": {
    "collapsed": true
   },
   "outputs": [],
   "source": []
  },
  {
   "cell_type": "code",
   "execution_count": null,
   "metadata": {
    "collapsed": true
   },
   "outputs": [],
   "source": []
  },
  {
   "cell_type": "code",
   "execution_count": null,
   "metadata": {
    "collapsed": true
   },
   "outputs": [],
   "source": []
  },
  {
   "cell_type": "markdown",
   "metadata": {},
   "source": [
    "# 9 Defining regions for the problem"
   ]
  },
  {
   "cell_type": "code",
   "execution_count": 30,
   "metadata": {
    "collapsed": true
   },
   "outputs": [],
   "source": [
    "model = KMS(n_clusters=9)\n",
    "df_region = df[['latitude','longitude']]"
   ]
  },
  {
   "cell_type": "code",
   "execution_count": 31,
   "metadata": {},
   "outputs": [
    {
     "data": {
      "image/png": "[encoded data removed]",
      "text/plain": [
       "<matplotlib.figure.Figure at 0x7f85b0515e10>"
      ]
     },
     "metadata": {},
     "output_type": "display_data"
    }
   ],
   "source": [
    "plt.figure(figsize=[16,10])\n",
    "plt.hist2d(df_region['latitude'],df_region['longitude'],bins=300, cmap='magma',cmin=1)\n",
    "plt.colorbar()\n",
    "plt.show()"
   ]
  },
  {
   "cell_type": "code",
   "execution_count": 32,
   "metadata": {
    "collapsed": true
   },
   "outputs": [],
   "source": [
    "# plt.figure(figsize=[15,15])\n",
    "# plt.hist2d(df_region['latitude'],df_region['longitude'],bins=100, cmap='magma', \n",
    "#                                  range=([[32.7025,32.71],[-117.151,-117.150]]))\n",
    "# plt.colorbar()\n",
    "# plt.show()"
   ]
  },
  {
   "cell_type": "code",
   "execution_count": 33,
   "metadata": {
    "collapsed": true
   },
   "outputs": [],
   "source": [
    "region = model.fit(df_region)\n",
    "temp = pds.DataFrame(region.predict(df_region))\n",
    "for x in range(len(temp[0])):\n",
    "    temp[0][x] = 'region_' +str(temp[0][x])"
   ]
  },
  {
   "cell_type": "code",
   "execution_count": 34,
   "metadata": {
    "collapsed": true
   },
   "outputs": [],
   "source": [
    "df_region = pds.concat([df_region,temp], axis=1)"
   ]
  },
  {
   "cell_type": "code",
   "execution_count": 35,
   "metadata": {
    "collapsed": true
   },
   "outputs": [],
   "source": [
    "df_region = df_region.rename(columns={0:'region'})\n",
    "temp = temp.rename(columns={0:'region'})"
   ]
  },
  {
   "cell_type": "code",
   "execution_count": 36,
   "metadata": {
    "collapsed": true
   },
   "outputs": [],
   "source": [
    "x_min = df_region['latitude'].min()\n",
    "x_max = df_region['latitude'].max()\n",
    "y_min = df_region['longitude'].min()\n",
    "y_max = df_region['longitude'].max()"
   ]
  },
  {
   "cell_type": "code",
   "execution_count": 37,
   "metadata": {
    "collapsed": true
   },
   "outputs": [],
   "source": [
    "# x = np.linspace(x_min, x_max)\n",
    "# y = np.linspace(y_min, y_max)\n",
    "# X, Y = np.meshgrid(x, y)\n",
    "# XX = np.array([X.ravel(), Y.ravel()]).T\n",
    "# Z = -region.score_samples(XX)\n",
    "# Z = Z.reshape(X.shape)\n",
    "\n",
    "# plt.figure(figsize=[15,15])\n",
    "# CS = plt.contour(X, Y, Z, norm=LogNorm(vmin=1.0, vmax=1000.0),\n",
    "#                  levels=np.linspace(0,8,num=10), colors = 'red')\n",
    "# CB = plt.colorbar(CS, shrink=0.8, extend='both')\n",
    "# plt.hist2d(df_region['latitude'], df_region['longitude'], bins=300, cmax=2)\n",
    "\n",
    "# plt.title('Negative log-likelihood predicted by a GMM')\n",
    "# # plt.axis('tight')\n",
    "# plt.show()"
   ]
  },
  {
   "cell_type": "code",
   "execution_count": 38,
   "metadata": {},
   "outputs": [
    {
     "data": {
      "image/png": "[encoded data removed]",
      "text/plain": [
       "<matplotlib.figure.Figure at 0x7f85b0530d30>"
      ]
     },
     "metadata": {},
     "output_type": "display_data"
    }
   ],
   "source": [
    "plt.figure(figsize=[12,12])\n",
    "plt.scatter(df_region['latitude'][df_region['region']=='region_0'], \n",
    "            df_region['longitude'][df_region['region']=='region_0'])\n",
    "plt.scatter(df_region['latitude'][df_region['region']=='region_1'], \n",
    "            df_region['longitude'][df_region['region']=='region_1'])\n",
    "plt.scatter(df_region['latitude'][df_region['region']=='region_2'], \n",
    "            df_region['longitude'][df_region['region']=='region_2'])\n",
    "plt.scatter(df_region['latitude'][df_region['region']=='region_3'], \n",
    "            df_region['longitude'][df_region['region']=='region_3'])\n",
    "plt.scatter(df_region['latitude'][df_region['region']=='region_4'], \n",
    "            df_region['longitude'][df_region['region']=='region_4'])\n",
    "plt.scatter(df_region['latitude'][df_region['region']=='region_5'], \n",
    "            df_region['longitude'][df_region['region']=='region_5'])\n",
    "plt.scatter(df_region['latitude'][df_region['region']=='region_6'], \n",
    "            df_region['longitude'][df_region['region']=='region_6'])\n",
    "plt.scatter(df_region['latitude'][df_region['region']=='region_7'], \n",
    "            df_region['longitude'][df_region['region']=='region_7'])\n",
    "plt.scatter(df_region['latitude'][df_region['region']=='region_8'], \n",
    "            df_region['longitude'][df_region['region']=='region_8'])\n",
    "# plt.scatter(df_region['latitude'][df_region['region']=='region_9'], \n",
    "#             df_region['longitude'][df_region['region']=='region_9'])\n",
    "plt.show()"
   ]
  },
  {
   "cell_type": "code",
   "execution_count": 39,
   "metadata": {
    "collapsed": true
   },
   "outputs": [],
   "source": [
    "temp1 = pds.get_dummies(df_region['region'])"
   ]
  },
  {
   "cell_type": "code",
   "execution_count": 40,
   "metadata": {
    "collapsed": true
   },
   "outputs": [],
   "source": [
    "# print(temp1)"
   ]
  },
  {
   "cell_type": "code",
   "execution_count": 41,
   "metadata": {
    "collapsed": true
   },
   "outputs": [],
   "source": [
    "df = pds.concat([df,temp1],axis=1)"
   ]
  },
  {
   "cell_type": "markdown",
   "metadata": {},
   "source": [
    "# What do I have?\n",
    "gender\n",
    "\n",
    "age_yrs: child, young, middle, old\n",
    "\n",
    "A B C D E O\n",
    "\n",
    "delta_arrival\n",
    "\n",
    "response_time\n",
    "\n",
    "Monday Tuesday Wenesday Thursday Friday Saturday Sunday\n",
    "\n",
    "incidentcount: low_use, med_use, high_use\n",
    "\n",
    "class, class_b\n",
    "\n",
    "region_0 thru region_8\n",
    "\n",
    "pd_os"
   ]
  },
  {
   "cell_type": "markdown",
   "metadata": {
    "collapsed": true
   },
   "source": [
    "# What does the data look like?"
   ]
  },
  {
   "cell_type": "code",
   "execution_count": null,
   "metadata": {
    "collapsed": true
   },
   "outputs": [],
   "source": [
    "varis = ['response_time', 'child', 'young', 'old', 'middle', 'gender', 'class', \n",
    "         'Monday', 'Tuesday', 'Wednesday', 'Thursday', 'sdpd_count', 'high_use', 'med_use', 'low_use',\n",
    "         'Friday', 'Saturday', 'Sunday','A','B','C','D','incidentcount', 'delta_arrival','class_b']\n",
    "df['min']"
   ]
  },
  {
   "cell_type": "code",
   "execution_count": null,
   "metadata": {},
   "outputs": [],
   "source": [
    "df[['minor_event','disp_determinant/medical_code']]"
   ]
  },
  {
   "cell_type": "code",
   "execution_count": null,
   "metadata": {
    "scrolled": false
   },
   "outputs": [],
   "source": [
    "print(train[varis].groupby('class').mean())\n",
    "print(len(train))\n",
    "# print(train[varis].groupby('class').std())\n",
    "plt.figure(figsize=[12,5])\n",
    "plt.subplot(1,2,1), plt.title('Actual')\n",
    "plt.hist(train['class_b'],bins=2)\n",
    "plt.subplot(1,2,2), plt.title('Dispatched')\n",
    "plt.hist(train['disp_b'],bins=2)\n",
    "plt.show()\n",
    "\n",
    "plt.figure(figsize=[20,20])\n",
    "corr = train[varis].corr()\n",
    "sns.heatmap(corr, xticklabels=corr.columns.values, yticklabels=corr.columns.values, annot=True)\n",
    "plt.xticks(rotation=90)\n",
    "plt.yticks(rotation=0)\n",
    "plt.tight_layout()\n",
    "plt.show()"
   ]
  },
  {
   "cell_type": "markdown",
   "metadata": {
    "collapsed": true
   },
   "source": [
    "# Model training"
   ]
  },
  {
   "cell_type": "code",
   "execution_count": null,
   "metadata": {
    "collapsed": true
   },
   "outputs": [],
   "source": [
    "train, test = tts(df, test_size=0.2)"
   ]
  },
  {
   "cell_type": "markdown",
   "metadata": {},
   "source": [
    "## All Features all Data"
   ]
  },
  {
   "cell_type": "code",
   "execution_count": null,
   "metadata": {
    "collapsed": true
   },
   "outputs": [],
   "source": [
    "features = [\n",
    "            'response_time',\n",
    "#             'young', 'old', 'middle', 'child',\n",
    "            'age_yrs',\n",
    "            'Monday', 'Tuesday', 'Wednesday', 'Thursday', 'Friday', 'Saturday', 'Sunday',\n",
    "            'region_0', 'region_1', 'region_2', 'region_3', 'region_4',\n",
    "            'region_5', 'region_6', 'region_7', 'region_8',\n",
    "            'minor_01', 'minor_02', 'minor_03', 'minor_04', 'minor_05', \n",
    "            'minor_06', 'minor_07', 'minor_08', 'minor_09', 'minor_10', \n",
    "            'minor_11', 'minor_12', 'minor_13', 'minor_14', 'minor_15', \n",
    "#             'minor_16', \n",
    "            'minor_17', 'minor_18', 'minor_19', 'minor_20', \n",
    "            'minor_21', 'minor_22', 'minor_23', 'minor_24', 'minor_25', \n",
    "            'minor_26', 'minor_27', 'minor_28', \n",
    "            'pd_os',  \n",
    "            'gender',\n",
    "            'incidentcount',\n",
    "            ''\n",
    "#             'low_use', 'med_use', 'high_use',\n",
    "            'A','B','C','D',\n",
    "            ]"
   ]
  },
  {
   "cell_type": "code",
   "execution_count": null,
   "metadata": {},
   "outputs": [],
   "source": [
    "parameters = {'class_weight':['balanced'], 'C':[0.1, 0.5, 1.0, 5.0, 10.0], \n",
    "              'multi_class':('ovr', 'multinomial'), 'solver':('newton-cg', 'lbfgs', 'sag', 'saga')}\n",
    "lre = LRE()\n",
    "clf = GridSearchCV(lre, parameters)\n",
    "clf.fit(train[features], train['class_a'])\n",
    "print(clf.best_params_)"
   ]
  },
  {
   "cell_type": "code",
   "execution_count": null,
   "metadata": {},
   "outputs": [],
   "source": [
    "model = LRE(class_weight='balanced', solver='saga', C=0.1, multi_class='ovr')\n",
    "LRE_2601_model = model.fit(df_train_slice[features], df_train_slice['class_a'])\n",
    "LRE_2601_prob  = model.predict_proba(df_test_slice[features])\n",
    "LRE_2601_pred  = model.predict(df_test_slice[features])\n",
    "\n",
    "df_test_slice['LRE_pred'] = 0\n",
    "df_test_slice['LRE_pred'] = [0 if x[0] > 0.5 else 1 for x in LRE_2601_prob]\n",
    "\n",
    "cm1 = cm(df_test_slice['class_a'],df_test_slice['LRE_pred'])\n",
    "cm2 = cm(df_test_slice['class_a'],df_test_slice['class_d'])\n",
    "print(cm1,'\\n')\n",
    "print(cm2,'\\n')\n",
    "temp0 = np.sum(cm1[0,1])\n",
    "temp1 = np.sum(cm2[0,1])\n",
    "print('Number of over responses predicted: {}'.format(temp0))\n",
    "print('Number of over responses assigned:  {}'.format(temp1))\n",
    "temp0 = cm1[1,1]/np.sum(cm1[1])\n",
    "temp1 = cm2[1,1]/np.sum(cm2[1])\n",
    "print('L1 responses correctly predicted:   {0:.2f}%'.format(temp0*100))\n",
    "print('L1 responses correctly assigned:    {0:.2f}%'.format(temp1*100))"
   ]
  },
  {
   "cell_type": "markdown",
   "metadata": {},
   "source": [
    "# No Days of the Week all Data"
   ]
  },
  {
   "cell_type": "code",
   "execution_count": null,
   "metadata": {
    "collapsed": true
   },
   "outputs": [],
   "source": [
    "features = [\n",
    "            'response_time',\n",
    "#             'young', 'old', 'middle', 'child',\n",
    "            'age_yrs',\n",
    "#             'Monday', 'Tuesday', 'Wednesday', 'Thursday', 'Friday', 'Saturday', 'Sunday',\n",
    "            'region_0', 'region_1', 'region_2', 'region_3', 'region_4',\n",
    "            'region_5', 'region_6', 'region_7', 'region_8',\n",
    "            'minor_01', 'minor_02', 'minor_03', 'minor_04', 'minor_05', \n",
    "            'minor_06', 'minor_07', 'minor_08', 'minor_09', 'minor_10', \n",
    "            'minor_11', 'minor_12', 'minor_13', 'minor_14', 'minor_15', \n",
    "#             'minor_16', \n",
    "            'minor_17', 'minor_18', 'minor_19', 'minor_20', \n",
    "            'minor_21', 'minor_22', 'minor_23', 'minor_24', 'minor_25', \n",
    "            'minor_26', 'minor_27', 'minor_28', \n",
    "            'pd_os',  \n",
    "            'gender',\n",
    "            'incidentcount',\n",
    "#             'low_use', 'med_use', 'high_use',\n",
    "            'A','B','C','D',\n",
    "]"
   ]
  },
  {
   "cell_type": "code",
   "execution_count": null,
   "metadata": {},
   "outputs": [],
   "source": [
    "parameters = {'class_weight':['balanced'], 'C':[0.1, 1.0, 10.0], \n",
    "              'multi_class':('ovr', 'multinomial'), 'solver':('newton-cg', 'lbfgs', 'sag', 'saga')}\n",
    "lre = LRE()\n",
    "clf = GridSearchCV(lre, parameters)\n",
    "clf.fit(train[features], train['class_a'])\n",
    "test = clf.best_params_"
   ]
  },
  {
   "cell_type": "code",
   "execution_count": null,
   "metadata": {},
   "outputs": [],
   "source": [
    "# model = LRE(class_weight='balanced', solver='saga', C=0.1, multi_class='ovr')\n",
    "# LRE_2601_model = model.fit(df_train_slice[features], df_train_slice['class_a'])\n",
    "LRE_2601_prob  = clf.predict_proba(df_test_slice[features])\n",
    "# LRE_2601_pred  = model.predict(df_test_slice[features])\n",
    "\n",
    "df_test_slice['LRE_pred'] = 0\n",
    "df_test_slice['LRE_pred'] = [0 if x[0] > 0.5 else 1 for x in LRE_2601_prob]\n",
    "\n",
    "cm1 = cm(df_test_slice['class_a'],df_test_slice['LRE_pred'])\n",
    "cm2 = cm(df_test_slice['class_a'],df_test_slice['class_d'])\n",
    "print(cm1,'\\n')\n",
    "print(cm2,'\\n')\n",
    "temp0 = np.sum(cm1[0,1])\n",
    "temp1 = np.sum(cm2[0,1])\n",
    "print('Number of over responses predicted: {}'.format(temp0))\n",
    "print('Number of over responses assigned:  {}'.format(temp1))\n",
    "temp0 = cm1[1,1]/np.sum(cm1[1])\n",
    "temp1 = cm2[1,1]/np.sum(cm2[1])\n",
    "print('L1 responses correctly predicted:   {0:.2f}%'.format(temp0*100))\n",
    "print('L1 responses correctly assigned:    {0:.2f}%'.format(temp1*100))"
   ]
  },
  {
   "cell_type": "code",
   "execution_count": null,
   "metadata": {
    "collapsed": true
   },
   "outputs": [],
   "source": [
    "df_train_slice = train#[(train['child']!=1)]\n",
    "df_test_slice  = test#[(test['child']!=1)]\n",
    "# print(len(df_train_slice['homeless'][df_train_slice['homeless'].isnull()]))\n",
    "# print(len(df_train_slice))\n",
    "\n",
    "df_train_slice.index = range(len(df_train_slice))\n",
    "df_test_slice.index = range(len(df_test_slice))"
   ]
  },
  {
   "cell_type": "code",
   "execution_count": null,
   "metadata": {},
   "outputs": [],
   "source": [
    "model = LRE(class_weight='balanced', solver='saga', C=0.2)\n",
    "LRE_2601_model = model.fit(df_train_slice[features], df_train_slice['class_a'])\n",
    "LRE_2601_prob  = model.predict_proba(df_test_slice[features])\n",
    "LRE_2601_pred  = model.predict(df_test_slice[features])"
   ]
  },
  {
   "cell_type": "code",
   "execution_count": null,
   "metadata": {},
   "outputs": [],
   "source": [
    "model = RFC()\n",
    "RFC_2601_model = model.fit(df_train_slice[features], df_train_slice['class_a'])\n",
    "RFC_2601_prob  = model.predict_proba(df_test_slice[features])"
   ]
  },
  {
   "cell_type": "code",
   "execution_count": null,
   "metadata": {
    "collapsed": true
   },
   "outputs": [],
   "source": [
    "model = GBC()\n",
    "GBC_2601_model = model.fit(df_train_slice[features], df_train_slice['class_a'])\n",
    "GBC_2601_prob  = model.predict_proba(df_test_slice[features])"
   ]
  },
  {
   "cell_type": "code",
   "execution_count": null,
   "metadata": {
    "collapsed": true
   },
   "outputs": [],
   "source": [
    "model = GNB()\n",
    "GNB_2601_model = model.fit(df_train_slice[features], df_train_slice['class_b'])\n",
    "GNB_2601_prob  = model.predict_proba(df_test_slice[features])"
   ]
  },
  {
   "cell_type": "code",
   "execution_count": null,
   "metadata": {
    "collapsed": true
   },
   "outputs": [],
   "source": [
    "model = BNB()\n",
    "BNB_2601_model = model.fit(df_train_slice[features], df_train_slice['class_b'])\n",
    "BNB_2601_prob  = model.predict_proba(df_test_slice[features])"
   ]
  },
  {
   "cell_type": "code",
   "execution_count": null,
   "metadata": {
    "collapsed": true
   },
   "outputs": [],
   "source": [
    "model = MNB()\n",
    "MNB_2601_model = model.fit(df_train_slice[features], df_train_slice['class_b'])\n",
    "MNB_2601_prob  = model.predict_proba(df_test_slice[features])"
   ]
  },
  {
   "cell_type": "code",
   "execution_count": null,
   "metadata": {
    "collapsed": true
   },
   "outputs": [],
   "source": [
    "model = LRC()\n",
    "LRC_2601_model = model.fit(df_train_slice[features], df_train_slice['class_b'])\n",
    "LRC_2601_prob  = model.predict_proba(df_test_slice[features])"
   ]
  },
  {
   "cell_type": "markdown",
   "metadata": {},
   "source": [
    "# Grid search for optimal parameters"
   ]
  },
  {
   "cell_type": "code",
   "execution_count": 42,
   "metadata": {},
   "outputs": [],
   "source": [
    "def search(features, model, parameters, df, test):\n",
    "#     i = 0\n",
    "#     temp = list(combinations(features, (14))) + list(combinations(features, (15)))\n",
    "#     for f_set in\n",
    "    file = open('testfile.txt','a') \n",
    "    file.write('\\nIteration number: {}\\n'.format(i))\n",
    "#     i += 1\n",
    "    f_set = [item for sublist in features for item in sublist]\n",
    "#         print(f_set)\n",
    "    clf = GridSearchCV(model, parameters)\n",
    "    clf.fit(df[f_set], df['class_a'])\n",
    "    prob = clf.predict_proba(test[f_set])\n",
    "    output(clf, prob, test)\n",
    "        \n",
    "        \n",
    "#         print('{0} {1} {2}'.format(i, j, k))\n",
    "#         print(temp)\n",
    "#         clf = GridSearchCV(model, parameters)\n",
    "#         clf.fit(df[temp], df['class_a'])\n",
    "#         prob = clf.predict_proba(test[temp])\n",
    "#         output(clf, prob, test)\n",
    "#         i = 1\n",
    "#         search(features, model, parameters, df, test, i, j, k, l)\n",
    "#         return()\n",
    "#     if i == 1:\n",
    "#         new = features[:j] + features[j+1:]\n",
    "#         temp = [item for sublist in new for item in sublist]\n",
    "#         print('\\n\\n{0} {1} {2}'.format(i, j, k))\n",
    "#         print(temp)\n",
    "#         clf = GridSearchCV(model, parameters)\n",
    "#         clf.fit(df[temp], df['class_a'])\n",
    "#         prob = clf.predict_proba(test[temp])\n",
    "#         output(clf, prob, test)\n",
    "#         j += 1\n",
    "#         if j == 9:\n",
    "#             i = 2\n",
    "#             j = 0\n",
    "#         search(features, model, parameters, df, test, i, j, k, l)\n",
    "#         return()\n",
    "#     if i == 2:\n",
    "#         new = features[:j] + features[j+1:]\n",
    "#         new = new[:k] + new[k+1:]\n",
    "#         temp = [item for sublist in new for item in sublist]\n",
    "#         print('\\n\\n{0} {1} {2}'.format(i, j, k))\n",
    "#         print(temp)\n",
    "#         clf = GridSearchCV(model, parameters)\n",
    "#         clf.fit(df[temp], df['class_a'])\n",
    "#         prob = clf.predict_proba(test[temp])\n",
    "#         output(clf, prob, test)\n",
    "#         k += 1\n",
    "#         if k == 8 and j == 8:\n",
    "#             j = 0\n",
    "#             k = 0\n",
    "#             i = 3\n",
    "#         if k == 8:\n",
    "#             j += 1\n",
    "#             k = 0\n",
    "#         search(features, model, parameters, df, test, i, j, k, l)\n",
    "#         return()\n",
    "        \n",
    "    \n",
    "        "
   ]
  },
  {
   "cell_type": "code",
   "execution_count": 43,
   "metadata": {
    "collapsed": true
   },
   "outputs": [],
   "source": [
    "def output(clf, prob, test):\n",
    "    file = open('testfile.txt','a') \n",
    "    file.write('\\n {}\\n'.format(clf.best_params_))\n",
    "    test['LRE_pred'] = 0\n",
    "    test['LRE_pred'] = [0 if x[0] > 0.5 else 1 for x in prob]\n",
    "\n",
    "    cm1 = cm(test['class_a'],test['LRE_pred'])\n",
    "    cm2 = cm(test['class_a'],test['class_d'])\n",
    "    file.write('{}\\n'.format(cm1))\n",
    "    file.write('{}\\n'.format(cm2))\n",
    "    temp0 = np.sum(cm1[0,1])\n",
    "    temp1 = np.sum(cm2[0,1])\n",
    "    file.write('Number of over responses predicted: {}\\n'.format(temp0))\n",
    "    file.write('Number of over responses assigned:  {}\\n\\n'.format(temp1))\n",
    "    temp0 = cm1[1,1]/np.sum(cm1[1])\n",
    "    temp1 = cm2[1,1]/np.sum(cm2[1])\n",
    "    file.write('L1 responses correctly predicted:   {0:.2f}%\\n'.format(temp0*100))\n",
    "    file.write('L1 responses correctly assigned:    {0:.2f}%\\n\\n'.format(temp1*100))\n",
    "    file.close()"
   ]
  },
  {
   "cell_type": "code",
   "execution_count": 44,
   "metadata": {},
   "outputs": [],
   "source": [
    "time   = ['response_time',]        \n",
    "age    = ['age_yrs']\n",
    "day    = ['Monday', 'Tuesday', 'Wednesday', 'Thursday', 'Friday', 'Saturday', 'Sunday',]\n",
    "region = ['region_0', 'region_1', 'region_2', 'region_3', 'region_4',\n",
    "          'region_5', 'region_6', 'region_7', 'region_8',]\n",
    "minor  = ['minor_01', 'minor_02', 'minor_03', 'minor_04', 'minor_05', \n",
    "          'minor_06', 'minor_07', 'minor_08', 'minor_09', 'minor_10', \n",
    "          'minor_11', 'minor_12', 'minor_13', 'minor_14', 'minor_15', \n",
    "          'minor_17', 'minor_18', 'minor_19', 'minor_20', \n",
    "          'minor_21', 'minor_22', 'minor_23', 'minor_24', 'minor_25', \n",
    "          'minor_26', 'minor_27', 'minor_28',] \n",
    "police = ['pd_os',]  \n",
    "gender = ['gender']\n",
    "count  = ['incidentcount',]\n",
    "respon = ['A','B','C','D',]\n",
    "drug_c = ['drug_count']\n",
    "drug_i = ['drug_inc']\n",
    "etoh_c = ['etoh_count']\n",
    "etoh_i = ['etoh_inc']\n",
    "pert_o = ['pert_os']\n",
    "pert_c = ['pert_count']\n",
    "aggres = ['aggressive']\n",
    "d_arrv = ['delta_arrival']\n",
    "\n",
    "feat_list = [time, age, region, minor, police, gender, count, respon, day, drug_c, drug_i,\n",
    "             etoh_c, etoh_i, pert_o, pert_c, aggres, d_arrv]\n",
    "\n",
    "age_cat = ['young', 'old', 'middle', 'child',]\n",
    "fre_cat = ['low_use', 'med_use', 'high_use',]\n",
    "\n",
    "cut_list = [age_cat,fre_cat]\n",
    "\n",
    "parameters = {'class_weight':['balanced'], 'C':[0.5, 1.0, 2.0], \n",
    "              'multi_class':['ovr'], 'solver':['sag']}"
   ]
  },
  {
   "cell_type": "code",
   "execution_count": 45,
   "metadata": {
    "scrolled": true
   },
   "outputs": [],
   "source": [
    "temp = df[df['child']!=1]\n",
    "file = open('testfile.txt','w') \n",
    "file.write('No Child')  \n",
    "file.close() \n",
    "train, test = tts(temp, test_size=0.2)\n",
    "search(feat_list, LRE(), parameters, train, test)\n",
    "\n",
    "temp = df[df['child']!=1]\n",
    "temp = temp[temp['young']==1]\n",
    "file = open('testfile.txt','a') \n",
    "file.write('\\n\\n\\Young')  \n",
    "file.close() \n",
    "train, test = tts(temp, test_size=0.2)\n",
    "search(feat_list, LRE(), parameters, train, test)\n",
    "\n",
    "temp = df[df['child']!=1]\n",
    "temp = temp[temp['middle']==1]\n",
    "file = open('testfile.txt','a') \n",
    "file.write('\\n\\nMiddle')  \n",
    "file.close() \n",
    "train, test = tts(temp, test_size=0.2)\n",
    "search(feat_list, LRE(), parameters, train, test)\n",
    "\n",
    "temp = df[df['child']!=1]\n",
    "temp = temp[temp['old']==1]\n",
    "file = open('testfile.txt','a') \n",
    "file.write('\\n\\nOld')  \n",
    "file.close() \n",
    "train, test = tts(temp, test_size=0.2)\n",
    "search(feat_list, LRE(), parameters, train, test)\n",
    "\n",
    "temp = df[df['child']!=1]\n",
    "temp = temp[temp['young']!=1]\n",
    "file = open('testfile.txt','a') \n",
    "file.write('\\n\\n\\Old and Middle')  \n",
    "file.close() \n",
    "train, test = tts(temp, test_size=0.2)\n",
    "search(feat_list, LRE(), parameters, train, test)\n",
    "\n",
    "temp = df[df['child']!=1]\n",
    "temp = temp[temp['middle']!=1]\n",
    "file = open('testfile.txt','a') \n",
    "file.write('\\n\\n\\Old and Young')  \n",
    "file.close() \n",
    "train, test = tts(temp, test_size=0.2)\n",
    "search(feat_list, LRE(), parameters, train, test)\n",
    "\n",
    "temp = df[df['child']!=1]\n",
    "temp = temp[temp['old']!=1]\n",
    "file = open('testfile.txt','a') \n",
    "file.write('\\n\\nYoung and Middle')  \n",
    "file.close() \n",
    "train, test = tts(temp, test_size=0.2)\n",
    "search(feat_list, LRE(), parameters, train, test)\n",
    "\n",
    "temp = df[df['child']!=1]\n",
    "temp = temp[temp['high_use']==1]\n",
    "file = open('testfile.txt','a') \n",
    "file.write('\\n\\nHigh Use')  \n",
    "file.close() \n",
    "train, test = tts(temp, test_size=0.2)\n",
    "search(feat_list, LRE(), parameters, train, test)\n",
    "\n",
    "temp = df[df['child']!=1]\n",
    "temp = temp[temp['med_use']==1]\n",
    "file = open('testfile.txt','a') \n",
    "file.write('\\n\\nMed Use')  \n",
    "file.close() \n",
    "train, test = tts(temp, test_size=0.2)\n",
    "search(feat_list, LRE(), parameters, train, test)\n",
    "\n",
    "temp = df[df['child']!=1]\n",
    "temp = temp[temp['low_use']==1]\n",
    "file = open('testfile.txt','a') \n",
    "file.write('\\n\\nLow Use')  \n",
    "file.close() \n",
    "train, test = tts(temp, test_size=0.2)\n",
    "search(feat_list, LRE(), parameters, train, test)\n",
    "\n",
    "temp = df[df['child']!=1]\n",
    "temp = temp[temp['high_use']!=1]\n",
    "file = open('testfile.txt','a') \n",
    "file.write('\\n\\nMed Use and Low Use')  \n",
    "file.close() \n",
    "train, test = tts(temp, test_size=0.2)\n",
    "search(feat_list, LRE(), parameters, train, test)\n",
    "\n",
    "temp = df[df['child']!=1]\n",
    "temp = temp[temp['med_use']!=1]\n",
    "file = open('testfile.txt','a') \n",
    "file.write('\\n\\nHigh Use and Low Use')  \n",
    "file.close() \n",
    "train, test = tts(temp, test_size=0.2)\n",
    "search(feat_list, LRE(), parameters, train, test)\n",
    "\n",
    "temp = df[df['child']!=1]\n",
    "temp = temp[temp['low_use']!=1]\n",
    "file = open('testfile.txt','a') \n",
    "file.write('\\n\\nMed Use and High Use')  \n",
    "file.close() \n",
    "train, test = tts(temp, test_size=0.2)\n",
    "search(feat_list, LRE(), parameters, train, test)"
   ]
  },
  {
   "cell_type": "code",
   "execution_count": null,
   "metadata": {
    "collapsed": true
   },
   "outputs": [],
   "source": [
    "df = df\n",
    "search(feat_list, LRE(), parameters, train, test, 0, 0, 0, 0)"
   ]
  },
  {
   "cell_type": "code",
   "execution_count": null,
   "metadata": {
    "collapsed": true
   },
   "outputs": [],
   "source": []
  },
  {
   "cell_type": "code",
   "execution_count": null,
   "metadata": {
    "collapsed": true
   },
   "outputs": [],
   "source": []
  },
  {
   "cell_type": "code",
   "execution_count": null,
   "metadata": {
    "collapsed": true
   },
   "outputs": [],
   "source": []
  },
  {
   "cell_type": "code",
   "execution_count": null,
   "metadata": {},
   "outputs": [],
   "source": [
    "from itertools import combinations\n",
    "\n",
    "# for i in range(1, len(feat_list) + 1):  #  xrange will return the values 1,2,3,4 in this loop\n",
    "temp = list(combinations(feat_list, (14))) + list(combinations(feat_list, (15)))\n",
    "print(temp[0])"
   ]
  },
  {
   "cell_type": "code",
   "execution_count": null,
   "metadata": {
    "collapsed": true
   },
   "outputs": [],
   "source": []
  },
  {
   "cell_type": "code",
   "execution_count": null,
   "metadata": {
    "collapsed": true
   },
   "outputs": [],
   "source": []
  },
  {
   "cell_type": "markdown",
   "metadata": {},
   "source": [
    "# 2601 testing models"
   ]
  },
  {
   "cell_type": "markdown",
   "metadata": {},
   "source": [
    "# Logistic Regression"
   ]
  },
  {
   "cell_type": "code",
   "execution_count": null,
   "metadata": {
    "scrolled": false
   },
   "outputs": [],
   "source": [
    "df_test_slice['LRE_pred'] = 0\n",
    "# df_test_slice['LRE_pred'] = ['L1' if x[0] > 0.175 else 'L3' if x[1] > x[2] else 'L4' for x in LRE_2601_prob]\n",
    "df_test_slice['LRE_pred'] = [0 if x[0] > 0.5 else 1 for x in LRE_2601_prob]\n",
    "\n",
    "# print(df_test_slice['LRE_pred'][df_test_slice['class_b']==0])\n",
    "cm1 = cm(df_test_slice['class_a'],df_test_slice['LRE_pred'])\n",
    "cm2 = cm(df_test_slice['class_a'],df_test_slice['class_d'])\n",
    "print(cm1,'\\n')\n",
    "print(cm2,'\\n')\n",
    "temp0 = np.sum(cm1[0,1])\n",
    "temp1 = np.sum(cm2[0,1])\n",
    "print('Number of over responses predicted: {}'.format(temp0))\n",
    "print('Number of over responses assigned:  {}'.format(temp1))\n",
    "temp0 = cm1[1,1]/np.sum(cm1[1])\n",
    "temp1 = cm2[1,1]/np.sum(cm2[1])\n",
    "print('L1 responses correctly predicted:   {0:.2f}%'.format(temp0*100))\n",
    "print('L1 responses correctly assigned:    {0:.2f}%'.format(temp1*100))\n",
    "plt.figure(figsize=[18,6])\n",
    "plt.subplot(1,3,1)\n",
    "plt.hist(df_test_slice['LRE_pred'],bins=2)\n",
    "plt.title('LRE Predicted')\n",
    "plt.subplot(1,3,2)\n",
    "plt.hist(df_test_slice['class_d'],bins=2)\n",
    "plt.title('Assigned')\n",
    "plt.subplot(1,3,3)\n",
    "plt.hist(df_test_slice['class_a'],bins=2)\n",
    "plt.title('Actual')\n",
    "plt.show()\n",
    "print(cr(df_test_slice['class_a'],df_test_slice['LRE_pred']))\n",
    "\n",
    "X = np.array(train[features].values)\n",
    "y = np.array(train['class_a'].values)\n",
    "\n",
    "import statsmodels.api as sm\n",
    "from scipy import stats\n",
    "logit_model=sm.Logit(y, X)\n",
    "result=logit_model.fit()\n",
    "print(result.summary())\n",
    "\n",
    "p = np.array(df_test_slice[features].values)\n",
    "logit_pred = logit_model.predict(p[0])\n",
    "print(logit_pred)\n",
    "df_test_slice['LRE__sm_pred'] = [0 if x[0] > 0.575 else 1 for x in logit_pred]"
   ]
  },
  {
   "cell_type": "markdown",
   "metadata": {},
   "source": [
    "# Random Forest Classifier"
   ]
  },
  {
   "cell_type": "code",
   "execution_count": null,
   "metadata": {},
   "outputs": [],
   "source": [
    "df_test_slice['RFC_pred'] = 0\n",
    "# df_test_slice['RFC_pred'] = ['L1' if x[0] > 0.175 else 'L3' if x[1] > x[2] else 'L4' for x in RFC_2601_prob]\n",
    "df_test_slice['RFC_pred'] = [0 if x[0] > 0.5 else 1 for x in RFC_2601_prob]\n",
    "\n",
    "# print(df_test_slice['RFC_pred'][df_test_slice['class_b']==0])\n",
    "cm1 = cm(df_test_slice['class_a'],df_test_slice['RFC_pred'])\n",
    "cm2 = cm(df_test_slice['class_a'],df_test_slice['class_d'])\n",
    "print(cm1,'\\n')\n",
    "print(cm2,'\\n')\n",
    "temp0 = np.sum(cm1[0,1])\n",
    "temp1 = np.sum(cm2[0,1])\n",
    "print('Number of over responses predicted: {}'.format(temp0))\n",
    "print('Number of over responses assigned:  {}'.format(temp1))\n",
    "temp0 = cm1[1,1]/np.sum(cm1[1])\n",
    "temp1 = cm2[1,1]/np.sum(cm2[1])\n",
    "print('L1 responses correctly predicted:   {0:.2f}%'.format(temp0*100))\n",
    "print('L1 responses correctly assigned:    {0:.2f}%'.format(temp1*100))\n",
    "plt.figure(figsize=[18,6])\n",
    "plt.subplot(1,3,1)\n",
    "plt.hist(df_test_slice['RFC_pred'],bins=3)\n",
    "plt.title('RFC Predicted')\n",
    "plt.subplot(1,3,2)\n",
    "plt.hist(df_test_slice['class_d'],bins=3)\n",
    "plt.title('Assigned')\n",
    "plt.subplot(1,3,3)\n",
    "plt.hist(df_test_slice['class_a'],bins=3)\n",
    "plt.title('Actual')\n",
    "plt.show()\n",
    "\n",
    "X = np.array(train_2601[features].values)\n",
    "y = np.array(train_2601['class_a'])\n",
    "# print(X)\n",
    "y = [1 if x == 'L1' else 0 for x in y]\n",
    "\n",
    "# import statsmodels.api as sm\n",
    "# from scipy import stats\n",
    "# stats.chisqprob = lambda chisq, df: stats.chi2.sf(chisq, df)\n",
    "# logit_model=sm.Logit(y, X)\n",
    "# result=logit_model.fit()\n",
    "# print(result.summary())\n",
    "\n",
    "# p = np.array(df_test_slice[features].values)\n",
    "# fuck_it = logit_model.predict(p[0])\n",
    "\n",
    "# print(fuck_it)\n",
    "\n",
    "feature_importance = RFC_2601_model.feature_importances_\n",
    "sorted_idx = np.argsort(feature_importance)\n",
    "pos = np.arange(sorted_idx.shape[0]) + .5\n",
    "plt.barh(pos, feature_importance[sorted_idx], align='center')\n",
    "plt.yticks(pos, df_test_slice[features].columns[sorted_idx])\n",
    "plt.show()"
   ]
  },
  {
   "cell_type": "markdown",
   "metadata": {},
   "source": [
    "# Gradient Boosted"
   ]
  },
  {
   "cell_type": "code",
   "execution_count": null,
   "metadata": {},
   "outputs": [],
   "source": [
    "df_test_slice['GBC_pred'] = 0\n",
    "# df_test_slice['GBC_pred'] = ['L1' if x[0] > 0.175 else 'L3' if x[1] > x[2] else 'L4' for x in GBC_2601_prob]\n",
    "df_test_slice['GBC_pred'] = [0 if x[0] > 0.8 else 1 for x in GBC_2601_prob]\n",
    "\n",
    "# print(df_test_slice['GBC_pred'][df_test_slice['class_b']==0])\n",
    "cm1 = cm(df_test_slice['class_a'],df_test_slice['GBC_pred'])\n",
    "cm2 = cm(df_test_slice['class_a'],df_test_slice['class_d'])\n",
    "print(cm1,'\\n')\n",
    "print(cm2,'\\n')\n",
    "temp0 = np.sum(cm1[0,1])\n",
    "temp1 = np.sum(cm2[0,1])\n",
    "print('Number of over responses predicted: {}'.format(temp0))\n",
    "print('Number of over responses assigned:  {}'.format(temp1))\n",
    "temp0 = cm1[1,1]/np.sum(cm1[1])\n",
    "temp1 = cm2[1,1]/np.sum(cm2[1])\n",
    "print('L1 responses correctly predicted:   {0:.2f}%'.format(temp0*100))\n",
    "print('L1 responses correctly assigned:    {0:.2f}%'.format(temp1*100))\n",
    "plt.figure(figsize=[18,6])\n",
    "plt.subplot(1,3,1)\n",
    "plt.hist(df_test_slice['GBC_pred'],bins=3)\n",
    "plt.title('GBC Predicted')\n",
    "plt.subplot(1,3,2)\n",
    "plt.hist(df_test_slice['class_d'],bins=3)\n",
    "plt.title('Assigned')\n",
    "plt.subplot(1,3,3)\n",
    "plt.hist(df_test_slice['class_a'],bins=3)\n",
    "plt.title('Actual')\n",
    "plt.show()\n",
    "\n",
    "X = np.array(train[features].values)\n",
    "y = np.array(train['class_b'])\n",
    "# print(X)\n",
    "y = [1 if x == 'L1' else 0 for x in y]\n",
    "\n",
    "# import statsmodels.api as sm\n",
    "# from scipy import stats\n",
    "# stats.chisqprob = lambda chisq, df: stats.chi2.sf(chisq, df)\n",
    "# logit_model=sm.Logit(y, X)\n",
    "# result=logit_model.fit()\n",
    "# print(result.summary())\n",
    "\n",
    "# p = np.array(df_test_slice[features].values)\n",
    "# fuck_it = logit_model.predict(p[0])\n",
    "\n",
    "# print(fuck_it)f\n",
    "\n",
    "feature_importance = GBC_2601_model.feature_importances_\n",
    "print(feature_importance)\n",
    "print(features)\n",
    "sorted_idx = np.argsort(feature_importance)\n",
    "pos = np.arange(sorted_idx.shape[0]) + .5\n",
    "plt.barh(pos, feature_importance[sorted_idx], align='center')\n",
    "plt.yticks(pos, df_test_slice[features].columns[sorted_idx])\n",
    "plt.show()"
   ]
  },
  {
   "cell_type": "code",
   "execution_count": null,
   "metadata": {
    "scrolled": false
   },
   "outputs": [],
   "source": [
    "df_test_slice['GNB_pred'] = 0\n",
    "# df_test_slice['GNB_pred'] = ['L1' if x[0] > 0.175 else 'L3' if x[1] > x[2] else 'L4' for x in GNB_2601_prob]\n",
    "df_test_slice['GNB_pred'] = [0 if x[0] > 0.95 else 1 for x in GNB_2601_prob]\n",
    "\n",
    "# print(df_test_slice['GNB_pred'][df_test_slice['class_b']==0])\n",
    "cm1 = cm(df_test_slice['class_b'],df_test_slice['GNB_pred'])\n",
    "cm2 = cm(df_test_slice['class_b'],df_test_slice['disp_b'])\n",
    "print(cm1,'\\n')\n",
    "print(cm2,'\\n')\n",
    "temp0 = np.sum(cm1[0,1])\n",
    "temp1 = np.sum(cm2[0,1])\n",
    "print('Number of over responses predicted: {}'.format(temp0))\n",
    "print('Number of over responses assigned:  {}'.format(temp1))\n",
    "temp0 = cm1[1,1]/np.sum(cm1[1])\n",
    "temp1 = cm2[1,1]/np.sum(cm2[1])\n",
    "print('L1 responses correctly predicted:   {0:.2f}%'.format(temp0*100))\n",
    "print('L1 responses correctly assigned:    {0:.2f}%'.format(temp1*100))\n",
    "plt.figure(figsize=[18,6])\n",
    "plt.subplot(1,3,1)\n",
    "plt.hist(df_test_slice['GNB_pred'],bins=3)\n",
    "plt.title('GNB Predicted')\n",
    "plt.subplot(1,3,2)\n",
    "plt.hist(df_test_slice['disp_b'],bins=3)\n",
    "plt.title('Assigned')\n",
    "plt.subplot(1,3,3)\n",
    "plt.hist(df_test_slice['class_b'],bins=3)\n",
    "plt.title('Actual')\n",
    "plt.show()\n",
    "\n",
    "X = np.array(train_2601[features].values)\n",
    "y = np.array(train_2601['class_b'])\n",
    "# print(X)\n",
    "y = [1 if x == 'L1' else 0 for x in y]\n",
    "\n",
    "# import statsmodels.api as sm\n",
    "# from scipy import stats\n",
    "# stats.chisqprob = lambda chisq, df: stats.chi2.sf(chisq, df)\n",
    "# logit_model=sm.Logit(y, X)\n",
    "# result=logit_model.fit()\n",
    "# print(result.summary())\n",
    "\n",
    "# p = np.array(df_test_slice[features].values)\n",
    "# fuck_it = logit_model.predict(p[0])\n",
    "\n",
    "# print(fuck_it)"
   ]
  },
  {
   "cell_type": "code",
   "execution_count": null,
   "metadata": {},
   "outputs": [],
   "source": [
    "df_test_slice['BNB_pred'] = 0\n",
    "# df_test_slice['BNB_pred'] = ['L1' if x[0] > 0.175 else 'L3' if x[1] > x[2] else 'L4' for x in BNB_2601_prob]\n",
    "df_test_slice['BNB_pred'] = [0 if x[0] > 0.8 else 1 for x in BNB_2601_prob]\n",
    "\n",
    "# print(df_test_slice['BNB_pred'][df_test_slice['class_b']==0])\n",
    "cm1 = cm(df_test_slice['class_b'],df_test_slice['BNB_pred'])\n",
    "cm2 = cm(df_test_slice['class_b'],df_test_slice['disp_b'])\n",
    "print(cm1,'\\n')\n",
    "print(cm2,'\\n')\n",
    "temp0 = np.sum(cm1[0,1])\n",
    "temp1 = np.sum(cm2[0,1])\n",
    "print('Number of over responses predicted: {}'.format(temp0))\n",
    "print('Number of over responses assigned:  {}'.format(temp1))\n",
    "temp0 = cm1[1,1]/np.sum(cm1[1])\n",
    "temp1 = cm2[1,1]/np.sum(cm2[1])\n",
    "print('L1 responses correctly predicted:   {0:.2f}%'.format(temp0*100))\n",
    "print('L1 responses correctly assigned:    {0:.2f}%'.format(temp1*100))\n",
    "plt.figure(figsize=[18,6])\n",
    "plt.subplot(1,3,1)\n",
    "plt.hist(df_test_slice['BNB_pred'],bins=3)\n",
    "plt.title('BNB Predicted')\n",
    "plt.subplot(1,3,2)\n",
    "plt.hist(df_test_slice['disp_b'],bins=3)\n",
    "plt.title('Assigned')\n",
    "plt.subplot(1,3,3)\n",
    "plt.hist(df_test_slice['class_b'],bins=3)\n",
    "plt.title('Actual')\n",
    "plt.show()\n",
    "\n",
    "X = np.array(train_2601[features].values)\n",
    "y = np.array(train_2601['class_b'])\n",
    "# print(X)\n",
    "y = [1 if x == 'L1' else 0 for x in y]\n",
    "\n",
    "# import statsmodels.api as sm\n",
    "# from scipy import stats\n",
    "# stats.chisqprob = lambda chisq, df: stats.chi2.sf(chisq, df)\n",
    "# logit_model=sm.Logit(y, X)\n",
    "# result=logit_model.fit()\n",
    "# print(result.summary())\n",
    "\n",
    "# p = np.array(df_test_slice[features].values)\n",
    "# fuck_it = logit_model.predict(p[0])\n",
    "\n",
    "# print(fuck_it)"
   ]
  },
  {
   "cell_type": "code",
   "execution_count": null,
   "metadata": {},
   "outputs": [],
   "source": [
    "df_test_slice['MNB_pred'] = 0\n",
    "# df_test_slice['MNB_pred'] = ['L1' if x[0] > 0.175 else 'L3' if x[1] > x[2] else 'L4' for x in MNB_2601_prob]\n",
    "df_test_slice['MNB_pred'] = [0 if x[0] > 0.5 else 1 for x in MNB_2601_prob]\n",
    "\n",
    "# print(df_test_slice['MNB_pred'][df_test_slice['class_b']==0])\n",
    "cm1 = cm(df_test_slice['class_b'],df_test_slice['MNB_pred'])\n",
    "cm2 = cm(df_test_slice['class_b'],df_test_slice['disp_b'])\n",
    "print(cm1,'\\n')\n",
    "print(cm2,'\\n')\n",
    "temp0 = np.sum(cm1[0,1])\n",
    "temp1 = np.sum(cm2[0,1])\n",
    "print('Number of over responses predicted: {}'.format(temp0))\n",
    "print('Number of over responses assigned:  {}'.format(temp1))\n",
    "temp0 = cm1[1,1]/np.sum(cm1[1])\n",
    "temp1 = cm2[1,1]/np.sum(cm2[1])\n",
    "print('L1 responses correctly predicted:   {0:.2f}%'.format(temp0*100))\n",
    "print('L1 responses correctly assigned:    {0:.2f}%'.format(temp1*100))\n",
    "plt.figure(figsize=[18,6])\n",
    "plt.subplot(1,3,1)\n",
    "plt.hist(df_test_slice['MNB_pred'],bins=3)\n",
    "plt.title('MNB Predicted')\n",
    "plt.subplot(1,3,2)\n",
    "plt.hist(df_test_slice['disp_b'],bins=3)\n",
    "plt.title('Assigned')\n",
    "plt.subplot(1,3,3)\n",
    "plt.hist(df_test_slice['class_b'],bins=3)\n",
    "plt.title('Actual')\n",
    "plt.show()\n",
    "\n",
    "X = np.array(train_2601[features].values)\n",
    "y = np.array(train_2601['class_b'])\n",
    "# print(X)\n",
    "y = [1 if x == 'L1' else 0 for x in y]"
   ]
  },
  {
   "cell_type": "code",
   "execution_count": null,
   "metadata": {},
   "outputs": [],
   "source": [
    "df_test_slice['LRC_pred'] = 0\n",
    "# df_test_slice['LRC_pred'] = ['L1' if x[0] > 0.175 else 'L3' if x[1] > x[2] else 'L4' for x in LRC_2601_prob]\n",
    "df_test_slice['LRC_pred'] = [0 if x[0] > 0.5 else 1 for x in LRC_2601_prob]\n",
    "\n",
    "# print(df_test_slice['LRC_pred'][df_test_slice['class_b']==0])\n",
    "cm1 = cm(df_test_slice['class_b'],df_test_slice['LRC_pred'])\n",
    "cm2 = cm(df_test_slice['class_b'],df_test_slice['disp_b'])\n",
    "print(cm1,'\\n')\n",
    "print(cm2,'\\n')\n",
    "temp0 = np.sum(cm1[0,1])\n",
    "temp1 = np.sum(cm2[0,1])\n",
    "print('Number of over responses predicted: {}'.format(temp0))\n",
    "print('Number of over responses assigned:  {}'.format(temp1))\n",
    "temp0 = cm1[1,1]/np.sum(cm1[1])\n",
    "temp1 = cm2[1,1]/np.sum(cm2[1])\n",
    "print('L1 responses correctly predicted:   {0:.2f}%'.format(temp0*100))\n",
    "print('L1 responses correctly assigned:    {0:.2f}%'.format(temp1*100))\n",
    "plt.figure(figsize=[18,6])\n",
    "plt.subplot(1,3,1)\n",
    "plt.hist(df_test_slice['LRC_pred'],bins=3)\n",
    "plt.title('LRC Predicted')\n",
    "plt.subplot(1,3,2)\n",
    "plt.hist(df_test_slice['disp_b'],bins=3)\n",
    "plt.title('Assigned')\n",
    "plt.subplot(1,3,3)\n",
    "plt.hist(df_test_slice['class_b'],bins=3)\n",
    "plt.title('Actual')\n",
    "plt.show()\n",
    "\n",
    "X = np.array(train_2601[features].values)\n",
    "y = np.array(train_2601['class_b'])\n",
    "# print(X)\n",
    "y = [1 if x == 'L1' else 0 for x in y]"
   ]
  },
  {
   "cell_type": "code",
   "execution_count": null,
   "metadata": {
    "collapsed": true
   },
   "outputs": [],
   "source": []
  },
  {
   "cell_type": "code",
   "execution_count": null,
   "metadata": {
    "collapsed": true
   },
   "outputs": [],
   "source": []
  },
  {
   "cell_type": "code",
   "execution_count": null,
   "metadata": {
    "collapsed": true
   },
   "outputs": [],
   "source": []
  },
  {
   "cell_type": "code",
   "execution_count": null,
   "metadata": {
    "collapsed": true
   },
   "outputs": [],
   "source": []
  }
 ],
 "metadata": {
  "kernelspec": {
   "display_name": "Python 3",
   "language": "python",
   "name": "python3"
  },
  "language_info": {
   "codemirror_mode": {
    "name": "ipython",
    "version": 3
   },
   "file_extension": ".py",
   "mimetype": "text/x-python",
   "name": "python",
   "nbconvert_exporter": "python",
   "pygments_lexer": "ipython3",
   "version": "3.6.3"
  }
 },
 "nbformat": 4,
 "nbformat_minor": 2
}
